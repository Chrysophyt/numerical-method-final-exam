{
 "cells": [
  {
   "cell_type": "code",
   "execution_count": 1,
   "metadata": {},
   "outputs": [],
   "source": [
    "import numpy as np\n",
    "np.set_printoptions(precision=1)"
   ]
  },
  {
   "cell_type": "code",
   "execution_count": 2,
   "metadata": {},
   "outputs": [],
   "source": [
    "# example = np.array(\n",
    "#     [[0      ,      3,      8,  np.inf,     -4],\n",
    "#     [np.inf ,      0, np.inf,       1,      7],\n",
    "#     [np.inf ,      4,      0,  np.inf, np.inf],\n",
    "#     [     2 , np.inf,     -5,       0, np.inf],\n",
    "#     [ np.inf, np.inf, np.inf,       6,      0]]\n",
    "#     )\n",
    "\n",
    "#example from https://www.gatevidyalay.com/floyd-warshall-algorithm-shortest-path-algorithm/\n",
    "example = np.array([\n",
    "    [0, 8, np.inf, 1],\n",
    "    [np.inf, 0, 1, np.inf],\n",
    "    [4, np.inf, 0, np.inf],\n",
    "    [np.inf, 2, 9, 0]\n",
    "])"
   ]
  },
  {
   "cell_type": "code",
   "execution_count": 3,
   "metadata": {},
   "outputs": [
    {
     "output_type": "execute_result",
     "data": {
      "text/plain": "array([[ 0.,  8., inf,  1.],\n       [inf,  0.,  1., inf],\n       [ 4., inf,  0., inf],\n       [inf,  2.,  9.,  0.]])"
     },
     "metadata": {},
     "execution_count": 3
    }
   ],
   "source": [
    "example"
   ]
  },
  {
   "cell_type": "code",
   "execution_count": 4,
   "metadata": {},
   "outputs": [],
   "source": [
    "def FloydWarshall(W) :\n",
    "    n = W.shape[0]\n",
    "    print(\"Size : \"+str(n))\n",
    "    D = [None] * (n+1)\n",
    "    D[-1] = W\n",
    "    print(\"Input : \\n\", D[-1])\n",
    "    for (k) in range(0, n):\n",
    "        D[k] = np.empty([n,n])\n",
    "        for (i) in range (0, n):\n",
    "            for (j) in range (0, n):\n",
    "                #print(i, j, k)\n",
    "                D[k][i, j] = min(D[k-1][i, j], D[k-1][i, k]+ D[k-1][k, j])\n",
    "        print(\"\\nIteration-\" + str(k))\n",
    "        print(D[k])\n",
    "        \n",
    "    return D[n-1]"
   ]
  },
  {
   "cell_type": "code",
   "execution_count": 5,
   "metadata": {},
   "outputs": [
    {
     "output_type": "stream",
     "name": "stdout",
     "text": "Size : 4\nInput : \n [[ 0.  8. inf  1.]\n [inf  0.  1. inf]\n [ 4. inf  0. inf]\n [inf  2.  9.  0.]]\n\nIteration-0\n[[ 0.  8. inf  1.]\n [inf  0.  1. inf]\n [ 4. 12.  0.  5.]\n [inf  2.  9.  0.]]\n\nIteration-1\n[[ 0.  8.  9.  1.]\n [inf  0.  1. inf]\n [ 4. 12.  0.  5.]\n [inf  2.  3.  0.]]\n\nIteration-2\n[[ 0.  8.  9.  1.]\n [ 5.  0.  1.  6.]\n [ 4. 12.  0.  5.]\n [ 7.  2.  3.  0.]]\n\nIteration-3\n[[0. 3. 4. 1.]\n [5. 0. 1. 6.]\n [4. 7. 0. 5.]\n [7. 2. 3. 0.]]\n"
    },
    {
     "output_type": "execute_result",
     "data": {
      "text/plain": "array([[0., 3., 4., 1.],\n       [5., 0., 1., 6.],\n       [4., 7., 0., 5.],\n       [7., 2., 3., 0.]])"
     },
     "metadata": {},
     "execution_count": 5
    }
   ],
   "source": [
    "FloydWarshall(example)"
   ]
  },
  {
   "cell_type": "code",
   "execution_count": null,
   "metadata": {},
   "outputs": [],
   "source": []
  }
 ],
 "metadata": {
  "language_info": {
   "name": "python",
   "codemirror_mode": {
    "name": "ipython",
    "version": 3
   },
   "version": "3.8.1-final"
  },
  "orig_nbformat": 2,
  "file_extension": ".py",
  "mimetype": "text/x-python",
  "name": "python",
  "npconvert_exporter": "python",
  "pygments_lexer": "ipython3",
  "version": 3,
  "kernelspec": {
   "name": "python38132bit0b5157a7b6264bbcaaf8d056f95d4f7f",
   "display_name": "Python 3.8.1 32-bit"
  }
 },
 "nbformat": 4,
 "nbformat_minor": 2
}